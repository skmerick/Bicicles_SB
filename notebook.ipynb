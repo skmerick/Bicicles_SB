{
  "nbformat": 4,
  "nbformat_minor": 0,
  "metadata": {
    "colab": {
      "name": "Untitled3.ipynb",
      "provenance": [],
      "collapsed_sections": [],
      "mount_file_id": "1wmeM6xy3DJnXuYclOKpiN1EY9GviodgL",
      "authorship_tag": "ABX9TyMruzeFwPwA94Tt9aHGZg15",
      "include_colab_link": true
    },
    "kernelspec": {
      "name": "python3",
      "display_name": "Python 3"
    },
    "language_info": {
      "name": "python"
    }
  },
  "cells": [
    {
      "cell_type": "markdown",
      "metadata": {
        "id": "view-in-github",
        "colab_type": "text"
      },
      "source": [
        "<a href=\"https://colab.research.google.com/github/skmerick/Bicicles_SB/blob/main/notebook.ipynb\" target=\"_parent\"><img src=\"https://colab.research.google.com/assets/colab-badge.svg\" alt=\"Open In Colab\"/></a>"
      ]
    },
    {
      "cell_type": "markdown",
      "source": [
        "# ANÁLISE EXPLORATORIA DOS DADOS\n"
      ],
      "metadata": {
        "id": "Kg46jq8VCyCV"
      }
    },
    {
      "cell_type": "code",
      "source": [
        "from google.colab import drive\n",
        "drive.mount('/content/drive')"
      ],
      "metadata": {
        "colab": {
          "base_uri": "https://localhost:8080/"
        },
        "id": "AmQdws5hC5yU",
        "outputId": "102cf8cc-5173-4c90-a67a-d392a6f0cf49"
      },
      "execution_count": 224,
      "outputs": [
        {
          "output_type": "stream",
          "name": "stdout",
          "text": [
            "Drive already mounted at /content/drive; to attempt to forcibly remount, call drive.mount(\"/content/drive\", force_remount=True).\n"
          ]
        }
      ]
    },
    {
      "cell_type": "markdown",
      "source": [
        "**Instalação do pyspark**"
      ],
      "metadata": {
        "id": "kBkYyHRkDohS"
      }
    },
    {
      "cell_type": "code",
      "source": [
        "!pip install pyspark py4j\n"
      ],
      "metadata": {
        "colab": {
          "base_uri": "https://localhost:8080/"
        },
        "id": "50LIa_EeDn2K",
        "outputId": "a5761ef6-86c8-41d8-a1eb-c54afe5a839b"
      },
      "execution_count": 225,
      "outputs": [
        {
          "output_type": "stream",
          "name": "stdout",
          "text": [
            "Requirement already satisfied: pyspark in /usr/local/lib/python3.7/dist-packages (3.2.1)\n",
            "Requirement already satisfied: py4j in /usr/local/lib/python3.7/dist-packages (0.10.9.3)\n"
          ]
        }
      ]
    },
    {
      "cell_type": "markdown",
      "source": [
        "**Importação de bibliotecas**"
      ],
      "metadata": {
        "id": "Z2HHTx6NDKxF"
      }
    },
    {
      "cell_type": "code",
      "source": [
        "from pyspark.sql import *\n",
        "from pyspark.sql.functions import *\n",
        "from pyspark.sql import Row\n",
        "from pyspark.sql.types import *\n",
        "import pandas as pd\n"
      ],
      "metadata": {
        "id": "rIDbu-3ODGJK"
      },
      "execution_count": 226,
      "outputs": []
    },
    {
      "cell_type": "code",
      "source": [
        "spark = SparkSession.builder.master(\"local[*]\").getOrCreate()"
      ],
      "metadata": {
        "id": "gxJKpe32EXFA"
      },
      "execution_count": 227,
      "outputs": []
    },
    {
      "cell_type": "markdown",
      "source": [
        "##**Acessando as bases**"
      ],
      "metadata": {
        "id": "08e2AXb5C_dp"
      }
    },
    {
      "cell_type": "code",
      "source": [
        "pasta_raiz = '/content/drive/MyDrive/datasets/Smarttbot'"
      ],
      "metadata": {
        "id": "e7uERniLDQvi"
      },
      "execution_count": 228,
      "outputs": []
    },
    {
      "cell_type": "markdown",
      "source": [
        "**Vendas Ofertas especiais - Sales Special Offer Product**"
      ],
      "metadata": {
        "id": "LO0Tny0dEwKr"
      }
    },
    {
      "cell_type": "code",
      "source": [
        "schema = StructType([\n",
        "                     StructField(\"SpecialOfferID\", StringType(), True),\n",
        "                     StructField(\"ProductID\", IntegerType(), False),\n",
        "                     StructField(\"rowguid\", StringType(), False),\n",
        "                     StructField(\"ModifiedDate\", TimestampType(), True),\n",
        "])\n",
        "\n",
        "\n",
        "df_special_offer = spark.read.csv(f'{pasta_raiz}/Sales_SpecialOfferProduct.csv', sep=';', header=True, schema=schema)\n",
        "\n",
        "df_special_offer.show()"
      ],
      "metadata": {
        "colab": {
          "base_uri": "https://localhost:8080/"
        },
        "id": "OERbKlHMEtaz",
        "outputId": "ba23d7ce-3283-4bef-88f1-aa2a4f79f728"
      },
      "execution_count": 229,
      "outputs": [
        {
          "output_type": "stream",
          "name": "stdout",
          "text": [
            "+--------------+---------+--------------------+-------------------+\n",
            "|SpecialOfferID|ProductID|             rowguid|       ModifiedDate|\n",
            "+--------------+---------+--------------------+-------------------+\n",
            "|             1|      680|BB30B868-D86C-455...|2011-04-01 00:00:00|\n",
            "|             1|      706|B3C9A4B1-2AE6-4CB...|2011-04-01 00:00:00|\n",
            "|             1|      707|27B711FE-0B77-4EA...|2011-04-01 00:00:00|\n",
            "|             1|      708|46CBB78B-246E-4D6...|2011-04-01 00:00:00|\n",
            "|             1|      709|CF102AA0-055F-4D2...|2011-04-01 00:00:00|\n",
            "|             1|      710|63718DA1-464B-432...|2011-04-01 00:00:00|\n",
            "|             1|      711|457EB971-D1C9-48C...|2011-04-01 00:00:00|\n",
            "|             1|      712|5B948448-BAE5-4F2...|2011-04-01 00:00:00|\n",
            "|             1|      713|07768F40-6E46-430...|2011-04-01 00:00:00|\n",
            "|             1|      714|85004BCE-C74A-4D4...|2011-04-01 00:00:00|\n",
            "|             1|      715|BE469616-B279-452...|2011-04-01 00:00:00|\n",
            "|             1|      716|96D141FD-1D8E-431...|2011-04-01 00:00:00|\n",
            "|             1|      717|F717C3DC-3DBF-4F4...|2011-04-01 00:00:00|\n",
            "|             1|      718|B4634789-ACBB-470...|2011-04-01 00:00:00|\n",
            "|             1|      719|B0F55004-472E-4C6...|2011-04-01 00:00:00|\n",
            "|             1|      720|691B64BD-C417-478...|2011-04-01 00:00:00|\n",
            "|             1|      721|0FE22357-94A1-408...|2011-04-01 00:00:00|\n",
            "|             1|      722|87AF8A2A-02B8-465...|2011-04-01 00:00:00|\n",
            "|             1|      723|6A155B5E-7E94-4A7...|2011-04-01 00:00:00|\n",
            "|             1|      724|EBFBD8D4-3067-4D2...|2011-04-01 00:00:00|\n",
            "+--------------+---------+--------------------+-------------------+\n",
            "only showing top 20 rows\n",
            "\n"
          ]
        }
      ]
    },
    {
      "cell_type": "code",
      "source": [
        "df_special_offer.printSchema()"
      ],
      "metadata": {
        "colab": {
          "base_uri": "https://localhost:8080/"
        },
        "id": "B-vyfAIjGReA",
        "outputId": "e988bb6a-31f8-4d98-8e2f-0d5da1f19349"
      },
      "execution_count": 230,
      "outputs": [
        {
          "output_type": "stream",
          "name": "stdout",
          "text": [
            "root\n",
            " |-- SpecialOfferID: string (nullable = true)\n",
            " |-- ProductID: integer (nullable = true)\n",
            " |-- rowguid: string (nullable = true)\n",
            " |-- ModifiedDate: timestamp (nullable = true)\n",
            "\n"
          ]
        }
      ]
    },
    {
      "cell_type": "code",
      "source": [
        "#Quantidade de linhas e colunas\n",
        "\n",
        "def sparkShape(dataframe):\n",
        "    return(dataframe.count(), len(dataframe.columns))\n",
        "\n",
        "sparkShape(df_special_offer)"
      ],
      "metadata": {
        "colab": {
          "base_uri": "https://localhost:8080/"
        },
        "id": "8bVRe82TFj4S",
        "outputId": "8cc5ff5c-ffbc-46c9-ed15-0c2a1e32a79b"
      },
      "execution_count": 231,
      "outputs": [
        {
          "output_type": "execute_result",
          "data": {
            "text/plain": [
              "(538, 4)"
            ]
          },
          "metadata": {},
          "execution_count": 231
        }
      ]
    },
    {
      "cell_type": "code",
      "source": [
        "#Detalhes estatisticos gerais\n",
        "df_special_offer.describe().show()"
      ],
      "metadata": {
        "colab": {
          "base_uri": "https://localhost:8080/"
        },
        "id": "hX_11AY2ThRC",
        "outputId": "a4ecda9e-6fc1-46ec-fd2a-2146f74641ca"
      },
      "execution_count": 232,
      "outputs": [
        {
          "output_type": "stream",
          "name": "stdout",
          "text": [
            "+-------+------------------+-----------------+--------------------+\n",
            "|summary|    SpecialOfferID|        ProductID|             rowguid|\n",
            "+-------+------------------+-----------------+--------------------+\n",
            "|  count|               538|              538|                 538|\n",
            "|   mean|2.7118959107806693|849.4702602230483|                null|\n",
            "| stddev| 3.478142408113732|86.58989606682316|                null|\n",
            "|    min|                 1|              680|0020931C-087C-42F...|\n",
            "|    max|                 9|              999|FFE24AE4-9E46-433...|\n",
            "+-------+------------------+-----------------+--------------------+\n",
            "\n"
          ]
        }
      ]
    },
    {
      "cell_type": "code",
      "source": [
        "#Quantidade de produtos unicos\n",
        "df_special_offer.select(countDistinct(\"productid\")).show()"
      ],
      "metadata": {
        "colab": {
          "base_uri": "https://localhost:8080/"
        },
        "id": "RZbAqzL4G59q",
        "outputId": "775ea0c6-9fdf-40fa-b523-e0e53039b305"
      },
      "execution_count": 233,
      "outputs": [
        {
          "output_type": "stream",
          "name": "stdout",
          "text": [
            "+-------------------------+\n",
            "|count(DISTINCT productid)|\n",
            "+-------------------------+\n",
            "|                      295|\n",
            "+-------------------------+\n",
            "\n"
          ]
        }
      ]
    },
    {
      "cell_type": "code",
      "source": [
        "df_special_offer.select('specialofferid').groupby('specialofferid').count().show()"
      ],
      "metadata": {
        "colab": {
          "base_uri": "https://localhost:8080/"
        },
        "id": "YEs1seQIYpqQ",
        "outputId": "2112e3f9-d85c-4c5a-f281-40506e6e990a"
      },
      "execution_count": 234,
      "outputs": [
        {
          "output_type": "stream",
          "name": "stdout",
          "text": [
            "+--------------+-----+\n",
            "|specialofferid|count|\n",
            "+--------------+-----+\n",
            "|             7|    8|\n",
            "|            15|    7|\n",
            "|            11|    3|\n",
            "|             3|   55|\n",
            "|             8|    3|\n",
            "|            16|    7|\n",
            "|             5|    2|\n",
            "|             9|    1|\n",
            "|             1|  295|\n",
            "|            10|    3|\n",
            "|             4|   17|\n",
            "|            12|   12|\n",
            "|            13|   10|\n",
            "|            14|    4|\n",
            "|             2|  111|\n",
            "+--------------+-----+\n",
            "\n"
          ]
        }
      ]
    },
    {
      "cell_type": "code",
      "source": [
        "df_special_offer.select('modifieddate').groupby('modifieddate').count().show()"
      ],
      "metadata": {
        "colab": {
          "base_uri": "https://localhost:8080/"
        },
        "id": "7BRMBB_eY3mT",
        "outputId": "e2700d24-935c-4004-df0a-bb959595b995"
      },
      "execution_count": 235,
      "outputs": [
        {
          "output_type": "stream",
          "name": "stdout",
          "text": [
            "+-------------------+-----+\n",
            "|       modifieddate|count|\n",
            "+-------------------+-----+\n",
            "|2012-04-30 00:00:00|    4|\n",
            "|2013-04-30 00:00:00|   29|\n",
            "|2011-04-01 00:00:00|  295|\n",
            "|2014-03-01 00:00:00|    7|\n",
            "|2013-06-14 00:00:00|    7|\n",
            "|2012-03-14 00:00:00|    8|\n",
            "|2011-05-01 00:00:00|  185|\n",
            "|2013-04-14 00:00:00|    3|\n",
            "+-------------------+-----+\n",
            "\n"
          ]
        }
      ]
    },
    {
      "cell_type": "markdown",
      "source": [
        "**Produtos Produção - Production Product**"
      ],
      "metadata": {
        "id": "s24EAWRXUkXP"
      }
    },
    {
      "cell_type": "code",
      "source": [
        "schema = StructType([\n",
        "                     StructField(\"ProductId\", StringType(), False),\n",
        "                     StructField(\"Name\", StringType(), False),\n",
        "                     StructField(\"ProductNumber\", StringType(), False),\n",
        "                     StructField(\"MakeFlag\", IntegerType(), True),\n",
        "                     StructField(\"FinishedGoodsFlag\", IntegerType(), True),\n",
        "                     StructField(\"Color\", StringType(), True),\n",
        "                     StructField(\"SafetyStockLevel\", IntegerType(), True),\n",
        "                     StructField(\"ReorderPoint\", IntegerType(), True),\n",
        "                     StructField(\"StandardCost\", StringType(), True),\n",
        "                     StructField(\"ListPrice\", StringType(), True),\n",
        "                     StructField(\"size\", StringType(), True),\n",
        "                     StructField(\"SizeUnitMeasureCode\", StringType(), True),\n",
        "                     StructField(\"WeightUnitMeasureCode\", StringType(), True),\n",
        "                     StructField(\"Weight\", StringType(), True),\n",
        "                     StructField(\"DaysToManufacture\", IntegerType(), True),\n",
        "                     StructField(\"ProductLine\", StringType(), True),\n",
        "                     StructField(\"Class\", StringType(), True),\n",
        "                     StructField(\"Style\", StringType(), True),\n",
        "                     StructField(\"ProductSubcategoryID\", StringType(), True),\n",
        "                     StructField(\"ProductModelID\", StringType(), True),\n",
        "                     StructField(\"SellStartDate\", TimestampType(), True),\n",
        "                     StructField(\"SellEndDate\", TimestampType(), True),\n",
        "                     StructField(\"DiscontinuedDate\", TimestampType(), False),\n",
        "                     StructField(\"rowguid\", StringType(), True),\n",
        "                     StructField(\"ModifiedDate\", TimestampType(), True),\n",
        "])\n",
        "df_product = spark.read.csv(f'{pasta_raiz}/Production_Product.csv', sep=';', header=True, schema=schema)\n",
        "\n",
        "df_product = df_product.withColumn('StandardCost', regexp_replace('StandardCost', ',', '.').cast('float'))\n",
        "df_product = df_product.withColumn('ListPrice', regexp_replace('ListPrice', ',', '.').cast('float'))\n",
        "\n",
        "df_product.show()"
      ],
      "metadata": {
        "colab": {
          "base_uri": "https://localhost:8080/"
        },
        "id": "gCqOGO0dUx_S",
        "outputId": "325e6462-bc6d-4b0a-9773-c7cda2669acb"
      },
      "execution_count": 236,
      "outputs": [
        {
          "output_type": "stream",
          "name": "stdout",
          "text": [
            "+---------+--------------------+-------------+--------+-----------------+------+----------------+------------+------------+---------+----+-------------------+---------------------+------+-----------------+-----------+-----+-----+--------------------+--------------+-------------------+-----------+----------------+--------------------+--------------------+\n",
            "|ProductId|                Name|ProductNumber|MakeFlag|FinishedGoodsFlag| Color|SafetyStockLevel|ReorderPoint|StandardCost|ListPrice|size|SizeUnitMeasureCode|WeightUnitMeasureCode|Weight|DaysToManufacture|ProductLine|Class|Style|ProductSubcategoryID|ProductModelID|      SellStartDate|SellEndDate|DiscontinuedDate|             rowguid|        ModifiedDate|\n",
            "+---------+--------------------+-------------+--------+-----------------+------+----------------+------------+------------+---------+----+-------------------+---------------------+------+-----------------+-----------+-----+-----+--------------------+--------------+-------------------+-----------+----------------+--------------------+--------------------+\n",
            "|        1|     Adjustable Race|      AR-5381|       0|                0|  NULL|            1000|         750|         0.0|      0.0|NULL|               NULL|                 NULL|  NULL|                0|       NULL| NULL| NULL|                NULL|          NULL|2008-04-30 00:00:00|       null|            null|694215B7-08F7-4C0...|2014-02-08 10:01:...|\n",
            "|        2|        Bearing Ball|      BA-8327|       0|                0|  NULL|            1000|         750|         0.0|      0.0|NULL|               NULL|                 NULL|  NULL|                0|       NULL| NULL| NULL|                NULL|          NULL|2008-04-30 00:00:00|       null|            null|58AE3C20-4F3A-474...|2014-02-08 10:01:...|\n",
            "|        3|     BB Ball Bearing|      BE-2349|       1|                0|  NULL|             800|         600|         0.0|      0.0|NULL|               NULL|                 NULL|  NULL|                1|       NULL| NULL| NULL|                NULL|          NULL|2008-04-30 00:00:00|       null|            null|9C21AED2-5BFA-4F1...|2014-02-08 10:01:...|\n",
            "|        4|Headset Ball Bear...|      BE-2908|       0|                0|  NULL|             800|         600|         0.0|      0.0|NULL|               NULL|                 NULL|  NULL|                0|       NULL| NULL| NULL|                NULL|          NULL|2008-04-30 00:00:00|       null|            null|ECFED6CB-51FF-49B...|2014-02-08 10:01:...|\n",
            "|      316|               Blade|      BL-2036|       1|                0|  NULL|             800|         600|         0.0|      0.0|NULL|               NULL|                 NULL|  NULL|                1|       NULL| NULL| NULL|                NULL|          NULL|2008-04-30 00:00:00|       null|            null|E73E9750-603B-413...|2014-02-08 10:01:...|\n",
            "|      317|         LL Crankarm|      CA-5965|       0|                0| Black|             500|         375|         0.0|      0.0|NULL|               NULL|                 NULL|  NULL|                0|       NULL|   L | NULL|                NULL|          NULL|2008-04-30 00:00:00|       null|            null|3C9D10B7-A6B2-477...|2014-02-08 10:01:...|\n",
            "|      318|         ML Crankarm|      CA-6738|       0|                0| Black|             500|         375|         0.0|      0.0|NULL|               NULL|                 NULL|  NULL|                0|       NULL|   M | NULL|                NULL|          NULL|2008-04-30 00:00:00|       null|            null|EABB9A92-FA07-4EA...|2014-02-08 10:01:...|\n",
            "|      319|         HL Crankarm|      CA-7457|       0|                0| Black|             500|         375|         0.0|      0.0|NULL|               NULL|                 NULL|  NULL|                0|       NULL| NULL| NULL|                NULL|          NULL|2008-04-30 00:00:00|       null|            null|7D3FD384-4F29-484...|2014-02-08 10:01:...|\n",
            "|      320|     Chainring Bolts|      CB-2903|       0|                0|Silver|            1000|         750|         0.0|      0.0|NULL|               NULL|                 NULL|  NULL|                0|       NULL| NULL| NULL|                NULL|          NULL|2008-04-30 00:00:00|       null|            null|7BE38E48-B7D6-448...|2014-02-08 10:01:...|\n",
            "|      321|       Chainring Nut|      CN-6137|       0|                0|Silver|            1000|         750|         0.0|      0.0|NULL|               NULL|                 NULL|  NULL|                0|       NULL| NULL| NULL|                NULL|          NULL|2008-04-30 00:00:00|       null|            null|3314B1D7-EF69-443...|2014-02-08 10:01:...|\n",
            "|      322|           Chainring|      CR-7833|       0|                0| Black|            1000|         750|         0.0|      0.0|NULL|               NULL|                 NULL|  NULL|                0|       NULL| NULL| NULL|                NULL|          NULL|2008-04-30 00:00:00|       null|            null|F0AC2C4D-1A1F-4E3...|2014-02-08 10:01:...|\n",
            "|      323|          Crown Race|      CR-9981|       0|                0|  NULL|            1000|         750|         0.0|      0.0|NULL|               NULL|                 NULL|  NULL|                0|       NULL| NULL| NULL|                NULL|          NULL|2008-04-30 00:00:00|       null|            null|51A32CA6-65A1-4C3...|2014-02-08 10:01:...|\n",
            "|      324|         Chain Stays|      CS-2812|       1|                0|  NULL|            1000|         750|         0.0|      0.0|NULL|               NULL|                 NULL|  NULL|                1|       NULL| NULL| NULL|                NULL|          NULL|2008-04-30 00:00:00|       null|            null|FE0678ED-AEF2-4C5...|2014-02-08 10:01:...|\n",
            "|      325|             Decal 1|      DC-8732|       0|                0|  NULL|            1000|         750|         0.0|      0.0|NULL|               NULL|                 NULL|  NULL|                0|       NULL| NULL| NULL|                NULL|          NULL|2008-04-30 00:00:00|       null|            null|05CE123C-A402-478...|2014-02-08 10:01:...|\n",
            "|      326|             Decal 2|      DC-9824|       0|                0|  NULL|            1000|         750|         0.0|      0.0|NULL|               NULL|                 NULL|  NULL|                0|       NULL| NULL| NULL|                NULL|          NULL|2008-04-30 00:00:00|       null|            null|A56851F9-1CD7-4E2...|2014-02-08 10:01:...|\n",
            "|      327|           Down Tube|      DT-2377|       1|                0|  NULL|             800|         600|         0.0|      0.0|NULL|               NULL|                 NULL|  NULL|                1|       NULL| NULL| NULL|                NULL|          NULL|2008-04-30 00:00:00|       null|            null|1DAD47DD-E259-42B...|2014-02-08 10:01:...|\n",
            "|      328|   Mountain End Caps|      EC-M092|       1|                0|  NULL|            1000|         750|         0.0|      0.0|NULL|               NULL|                 NULL|  NULL|                1|       NULL| NULL| NULL|                NULL|          NULL|2008-04-30 00:00:00|       null|            null|6070B1EA-59B7-4F8...|2014-02-08 10:01:...|\n",
            "|      329|       Road End Caps|      EC-R098|       1|                0|  NULL|            1000|         750|         0.0|      0.0|NULL|               NULL|                 NULL|  NULL|                1|       NULL| NULL| NULL|                NULL|          NULL|2008-04-30 00:00:00|       null|            null|88399D13-719E-454...|2014-02-08 10:01:...|\n",
            "|      330|    Touring End Caps|      EC-T209|       1|                0|  NULL|            1000|         750|         0.0|      0.0|NULL|               NULL|                 NULL|  NULL|                1|       NULL| NULL| NULL|                NULL|          NULL|2008-04-30 00:00:00|       null|            null|6903CE24-D0CE-419...|2014-02-08 10:01:...|\n",
            "|      331|            Fork End|      FE-3760|       1|                0|  NULL|             800|         600|         0.0|      0.0|NULL|               NULL|                 NULL|  NULL|                1|       NULL| NULL| NULL|                NULL|          NULL|2008-04-30 00:00:00|       null|            null|C91D602E-DA52-43D...|2014-02-08 10:01:...|\n",
            "+---------+--------------------+-------------+--------+-----------------+------+----------------+------------+------------+---------+----+-------------------+---------------------+------+-----------------+-----------+-----+-----+--------------------+--------------+-------------------+-----------+----------------+--------------------+--------------------+\n",
            "only showing top 20 rows\n",
            "\n"
          ]
        }
      ]
    },
    {
      "cell_type": "code",
      "source": [
        "df_product.printSchema()"
      ],
      "metadata": {
        "colab": {
          "base_uri": "https://localhost:8080/"
        },
        "id": "dcnkRlLTVCYo",
        "outputId": "e31da2b4-6ad0-491b-fc76-07beb10d14cc"
      },
      "execution_count": 237,
      "outputs": [
        {
          "output_type": "stream",
          "name": "stdout",
          "text": [
            "root\n",
            " |-- ProductId: string (nullable = true)\n",
            " |-- Name: string (nullable = true)\n",
            " |-- ProductNumber: string (nullable = true)\n",
            " |-- MakeFlag: integer (nullable = true)\n",
            " |-- FinishedGoodsFlag: integer (nullable = true)\n",
            " |-- Color: string (nullable = true)\n",
            " |-- SafetyStockLevel: integer (nullable = true)\n",
            " |-- ReorderPoint: integer (nullable = true)\n",
            " |-- StandardCost: float (nullable = true)\n",
            " |-- ListPrice: float (nullable = true)\n",
            " |-- size: string (nullable = true)\n",
            " |-- SizeUnitMeasureCode: string (nullable = true)\n",
            " |-- WeightUnitMeasureCode: string (nullable = true)\n",
            " |-- Weight: string (nullable = true)\n",
            " |-- DaysToManufacture: integer (nullable = true)\n",
            " |-- ProductLine: string (nullable = true)\n",
            " |-- Class: string (nullable = true)\n",
            " |-- Style: string (nullable = true)\n",
            " |-- ProductSubcategoryID: string (nullable = true)\n",
            " |-- ProductModelID: string (nullable = true)\n",
            " |-- SellStartDate: timestamp (nullable = true)\n",
            " |-- SellEndDate: timestamp (nullable = true)\n",
            " |-- DiscontinuedDate: timestamp (nullable = true)\n",
            " |-- rowguid: string (nullable = true)\n",
            " |-- ModifiedDate: timestamp (nullable = true)\n",
            "\n"
          ]
        }
      ]
    },
    {
      "cell_type": "code",
      "source": [
        "#Quantidade de linhas e colunas\n",
        "\n",
        "sparkShape(df_product)"
      ],
      "metadata": {
        "colab": {
          "base_uri": "https://localhost:8080/"
        },
        "id": "CN82dGCRVFWZ",
        "outputId": "7f0db473-d865-4a00-925b-20f1d3f68e8f"
      },
      "execution_count": 238,
      "outputs": [
        {
          "output_type": "execute_result",
          "data": {
            "text/plain": [
              "(504, 25)"
            ]
          },
          "metadata": {},
          "execution_count": 238
        }
      ]
    },
    {
      "cell_type": "code",
      "source": [
        "#Detalhes estatisticos gerais\n",
        "df_product.describe().show()"
      ],
      "metadata": {
        "colab": {
          "base_uri": "https://localhost:8080/"
        },
        "id": "f5xRWJy2VLqq",
        "outputId": "7baaa6ad-1f73-4390-dbef-459691384f3d"
      },
      "execution_count": 239,
      "outputs": [
        {
          "output_type": "stream",
          "name": "stdout",
          "text": [
            "+-------+------------------+-----------------+-------------+------------------+-------------------+------+-----------------+------------------+-----------------+-----------------+------------------+-------------------+---------------------+------------------+------------------+-----------+-----+-----+--------------------+-----------------+--------------------+\n",
            "|summary|         ProductId|             Name|ProductNumber|          MakeFlag|  FinishedGoodsFlag| Color| SafetyStockLevel|      ReorderPoint|     StandardCost|        ListPrice|              size|SizeUnitMeasureCode|WeightUnitMeasureCode|            Weight| DaysToManufacture|ProductLine|Class|Style|ProductSubcategoryID|   ProductModelID|             rowguid|\n",
            "+-------+------------------+-----------------+-------------+------------------+-------------------+------+-----------------+------------------+-----------------+-----------------+------------------+-------------------+---------------------+------------------+------------------+-----------+-----+-----+--------------------+-----------------+--------------------+\n",
            "|  count|               504|              504|          504|               504|                504|   504|              504|               504|              504|              504|               504|                504|                  504|               504|               504|        504|  504|  504|                 504|              504|                 504|\n",
            "|   mean| 673.0396825396825|             null|         null|0.4742063492063492| 0.5853174603174603|  null|535.1507936507936|401.36309523809524|258.6029614967013|438.6662506797011|48.983050847457626|               null|                 null| 74.06921951219512|1.1031746031746033|       null| null| null|  12.294915254237289|37.44406779661017|                null|\n",
            "| stddev|229.37314180957824|             null|         null|0.4998303540029047|0.49315664605418624|  null|374.1129536209128| 280.5847152156847|461.6328058183503|773.6028478235182| 7.249196331844457|               null|                 null|182.16658823718498|1.4926159675916595|       null| null| null|   9.860134530977973|34.02544201748429|                null|\n",
            "|    min|                 1|     AWC Logo Cap|      AR-5381|                 0|                  0| Black|                4|                 3|              0.0|              0.0|                38|                CM |                  G  |           1000.00|                 0|         M |   H |   M |                   1|                1|01A8C3FC-ED52-458...|\n",
            "|    max|               999|Women's Tights, S|      WB-H098|                 1|                  1|Yellow|             1000|               750|        2171.2942|          3578.27|                XL|               NULL|                 NULL|              NULL|                 4|         T | NULL|   W |                NULL|             NULL|FE0678ED-AEF2-4C5...|\n",
            "+-------+------------------+-----------------+-------------+------------------+-------------------+------+-----------------+------------------+-----------------+-----------------+------------------+-------------------+---------------------+------------------+------------------+-----------+-----+-----+--------------------+-----------------+--------------------+\n",
            "\n"
          ]
        }
      ]
    },
    {
      "cell_type": "code",
      "source": [
        "#Quantidade de produtos unicos\n",
        "df_product.select(countDistinct(\"productid\")).show()"
      ],
      "metadata": {
        "colab": {
          "base_uri": "https://localhost:8080/"
        },
        "id": "lQext-kJVbTZ",
        "outputId": "c99987c0-f5df-4f47-a7c8-78feabc380f2"
      },
      "execution_count": 240,
      "outputs": [
        {
          "output_type": "stream",
          "name": "stdout",
          "text": [
            "+-------------------------+\n",
            "|count(DISTINCT productid)|\n",
            "+-------------------------+\n",
            "|                      504|\n",
            "+-------------------------+\n",
            "\n"
          ]
        }
      ]
    },
    {
      "cell_type": "markdown",
      "source": [
        "**Pedidos - Sales Order Header**"
      ],
      "metadata": {
        "id": "QOmSSkyRZVSb"
      }
    },
    {
      "cell_type": "code",
      "source": [
        "schema = StructType([\n",
        "                     StructField(\"SalesOrderID\", StringType(), True),\n",
        "                     StructField(\"RevisionNumber\", IntegerType(), True),\n",
        "                     StructField(\"OrderDate\", TimestampType(), True),\n",
        "                     StructField(\"DueDate\", TimestampType(), True),\n",
        "                     StructField(\"ShipDate\", TimestampType(), True),\n",
        "                     StructField(\"Status\", IntegerType(), True),\n",
        "                     StructField(\"OnlineOrderFlag\", IntegerType(), True),\n",
        "                     StructField(\"SalesOrderNumber\", StringType(), True),\n",
        "                     StructField(\"PurchaseOrderNumber\", StringType(), True),\n",
        "                     StructField(\"AccountNumber\", StringType(), True),\n",
        "                     StructField(\"CustomerID\", StringType(), True),\n",
        "                     StructField(\"SalesPersonID\", StringType(), True),\n",
        "                     StructField(\"TerritoryID\", StringType(), True),\n",
        "                     StructField(\"BillToAdressID\", StringType(), True),\n",
        "                     StructField(\"ShipToAdressId\", StringType(), True),\n",
        "                     StructField(\"ShipMethodID\", StringType(), True),\n",
        "                     StructField(\"CreditcardID\", StringType(), True),\n",
        "                     StructField(\"CredicardApprovalCode\", StringType(), True),\n",
        "                     StructField(\"CurrencyRateId\", StringType(), True),\n",
        "                     StructField(\"SubTotal\", StringType(), True),\n",
        "                     StructField(\"TaxAmt\", StringType(), True),\n",
        "                     StructField(\"Freight\", StringType(), True),\n",
        "                     StructField(\"TotalDue\", StringType(), True),\n",
        "                     StructField(\"Comment\", StringType(), True),\n",
        "                     StructField(\"rowguid\", StringType(), True),\n",
        "                     StructField(\"ModifiedDate\", TimestampType(), True),\n",
        "\n",
        "])\n",
        "\n",
        "df_order_header = spark.read.csv(f'{pasta_raiz}/Sales_SalesOrderHeader.csv', sep=';', header=True, schema=schema)\n",
        "\n",
        "df_order_header = df_order_header.withColumn('SubTotal', regexp_replace('TotalDue', ',', '.').cast('float'))\n",
        "df_order_header = df_order_header.withColumn('TaxAmt', regexp_replace('TotalDue', ',', '.').cast('float'))\n",
        "df_order_header = df_order_header.withColumn('Freight', regexp_replace('TotalDue', ',', '.').cast('float'))\n",
        "df_order_header = df_order_header.withColumn('TotalDue', regexp_replace('TotalDue', ',', '.').cast('float'))\n",
        "\n",
        "df_order_header.show()"
      ],
      "metadata": {
        "colab": {
          "base_uri": "https://localhost:8080/"
        },
        "id": "ht-1ozbXKfC_",
        "outputId": "fa901606-c3ba-4ac6-98e2-953ff4cef2e9"
      },
      "execution_count": 241,
      "outputs": [
        {
          "output_type": "stream",
          "name": "stdout",
          "text": [
            "+------------+--------------+-------------------+-------------------+-------------------+------+---------------+----------------+-------------------+--------------+----------+-------------+-----------+--------------+--------------+------------+------------+---------------------+--------------+---------+---------+---------+---------+-------+--------------------+-------------------+\n",
            "|SalesOrderID|RevisionNumber|          OrderDate|            DueDate|           ShipDate|Status|OnlineOrderFlag|SalesOrderNumber|PurchaseOrderNumber| AccountNumber|CustomerID|SalesPersonID|TerritoryID|BillToAdressID|ShipToAdressId|ShipMethodID|CreditcardID|CredicardApprovalCode|CurrencyRateId| SubTotal|   TaxAmt|  Freight| TotalDue|Comment|             rowguid|       ModifiedDate|\n",
            "+------------+--------------+-------------------+-------------------+-------------------+------+---------------+----------------+-------------------+--------------+----------+-------------+-----------+--------------+--------------+------------+------------+---------------------+--------------+---------+---------+---------+---------+-------+--------------------+-------------------+\n",
            "|       43659|             8|2011-05-31 00:00:00|2011-06-12 00:00:00|2011-06-07 00:00:00|     5|              0|         SO43659|        PO522145787|10-4020-000676|     29825|          279|          5|           985|           985|           5|       16281|        105041Vi84182|          NULL|23153.234|23153.234|23153.234|23153.234|   NULL|79B65321-39CA-411...|2011-06-07 00:00:00|\n",
            "|       43660|             8|2011-05-31 00:00:00|2011-06-12 00:00:00|2011-06-07 00:00:00|     5|              0|         SO43660|      PO18850127500|10-4020-000117|     29672|          279|          5|           921|           921|           5|        5618|        115213Vi29411|          NULL|1457.3289|1457.3289|1457.3289|1457.3289|   NULL|738DC42D-D03B-48A...|2011-06-07 00:00:00|\n",
            "|       43661|             8|2011-05-31 00:00:00|2011-06-12 00:00:00|2011-06-07 00:00:00|     5|              0|         SO43661|      PO18473189620|10-4020-000442|     29734|          282|          6|           517|           517|           5|        1346|          85274Vi6854|             4|  36865.8|  36865.8|  36865.8|  36865.8|   NULL|D91B9131-18A4-4A1...|2011-06-07 00:00:00|\n",
            "|       43662|             8|2011-05-31 00:00:00|2011-06-12 00:00:00|2011-06-07 00:00:00|     5|              0|         SO43662|      PO18444174044|10-4020-000227|     29994|          282|          6|           482|           482|           5|       10456|        125295Vi53935|             4|32474.932|32474.932|32474.932|32474.932|   NULL|4A1ECFC0-CC3A-474...|2011-06-07 00:00:00|\n",
            "|       43663|             8|2011-05-31 00:00:00|2011-06-12 00:00:00|2011-06-07 00:00:00|     5|              0|         SO43663|      PO18009186470|10-4020-000510|     29565|          276|          4|          1073|          1073|           5|        4322|         45303Vi22691|          NULL| 472.3108| 472.3108| 472.3108| 472.3108|   NULL|9B1E7A40-6AE0-4AD...|2011-06-07 00:00:00|\n",
            "|       43664|             8|2011-05-31 00:00:00|2011-06-12 00:00:00|2011-06-07 00:00:00|     5|              0|         SO43664|      PO16617121983|10-4020-000397|     29898|          280|          1|           876|           876|           5|         806|          95555Vi4081|          NULL| 27510.41| 27510.41| 27510.41| 27510.41|   NULL|22A8A5DA-8C22-42A...|2011-06-07 00:00:00|\n",
            "|       43665|             8|2011-05-31 00:00:00|2011-06-12 00:00:00|2011-06-07 00:00:00|     5|              0|         SO43665|      PO16588191572|10-4020-000146|     29580|          283|          1|           849|           849|           5|       15232|         35568Vi78804|          NULL|16158.696|16158.696|16158.696|16158.696|   NULL|5602C304-853C-43D...|2011-06-07 00:00:00|\n",
            "|       43666|             8|2011-05-31 00:00:00|2011-06-12 00:00:00|2011-06-07 00:00:00|     5|              0|         SO43666|      PO16008173883|10-4020-000511|     30052|          276|          4|          1074|          1074|           5|       13349|        105623Vi69217|          NULL|5694.8564|5694.8564|5694.8564|5694.8564|   NULL|E2A90057-1366-448...|2011-06-07 00:00:00|\n",
            "|       43667|             8|2011-05-31 00:00:00|2011-06-12 00:00:00|2011-06-07 00:00:00|     5|              0|         SO43667|      PO15428132599|10-4020-000646|     29974|          277|          3|           629|           629|           5|       10370|         55680Vi53503|          NULL|6876.3647|6876.3647|6876.3647|6876.3647|   NULL|86D5237D-432D-4B2...|2011-06-07 00:00:00|\n",
            "|       43668|             8|2011-05-31 00:00:00|2011-06-12 00:00:00|2011-06-07 00:00:00|     5|              0|         SO43668|      PO14732180295|10-4020-000514|     29614|          282|          6|           529|           529|           5|        1566|          85817Vi8045|             4|40487.723|40487.723|40487.723|40487.723|   NULL|281CC355-D538-494...|2011-06-07 00:00:00|\n",
            "|       43669|             8|2011-05-31 00:00:00|2011-06-12 00:00:00|2011-06-07 00:00:00|     5|              0|         SO43669|      PO14123169936|10-4020-000578|     29747|          283|          1|           895|           895|           5|       15538|         25877Vi80261|          NULL| 807.2585| 807.2585| 807.2585| 807.2585|   NULL|FABFC5C2-E034-4E0...|2011-06-07 00:00:00|\n",
            "|       43670|             8|2011-05-31 00:00:00|2011-06-12 00:00:00|2011-06-07 00:00:00|     5|              0|         SO43670|      PO14384116310|10-4020-000504|     29566|          275|          3|           810|           810|           5|       18017|        105888Vi93490|          NULL| 6893.255| 6893.255| 6893.255| 6893.255|   NULL|573E52A7-573F-40B...|2011-06-07 00:00:00|\n",
            "|       43671|             8|2011-05-31 00:00:00|2011-06-12 00:00:00|2011-06-07 00:00:00|     5|              0|         SO43671|      PO13978119376|10-4020-000200|     29890|          283|          1|           855|           855|           5|       13693|         25904Vi70960|          NULL| 9153.605| 9153.605| 9153.605| 9153.605|   NULL|005FDA9D-62E1-400...|2011-06-07 00:00:00|\n",
            "|       43672|             8|2011-05-31 00:00:00|2011-06-12 00:00:00|2011-06-07 00:00:00|     5|              0|         SO43672|      PO13862153537|10-4020-000119|     30067|          282|          6|           464|           464|           5|        3980|         95915Vi20982|             4|  6895.41|  6895.41|  6895.41|  6895.41|   NULL|194202AA-8E15-493...|2011-06-07 00:00:00|\n",
            "|       43673|             8|2011-05-31 00:00:00|2011-06-12 00:00:00|2011-06-07 00:00:00|     5|              0|         SO43673|      PO13775141242|10-4020-000618|     29844|          275|          2|           821|           821|           5|        1417|          35931Vi7271|          NULL| 4216.026| 4216.026| 4216.026| 4216.026|   NULL|C5CD3AE9-41F5-4B7...|2011-06-07 00:00:00|\n",
            "|       43674|             8|2011-05-31 00:00:00|2011-06-12 00:00:00|2011-06-07 00:00:00|     5|              0|         SO43674|      PO12760141756|10-4020-000083|     29596|          282|          6|           458|           458|           5|       19204|         26081Vi99806|             4|2955.0542|2955.0542|2955.0542|2955.0542|   NULL|CE8BCA02-F705-4AA...|2011-06-07 00:00:00|\n",
            "|       43675|             8|2011-05-31 00:00:00|2011-06-12 00:00:00|2011-06-07 00:00:00|     5|              0|         SO43675|      PO12412186464|10-4020-000670|     29827|          277|          3|           631|           631|           5|       11886|        126121Vi61402|          NULL| 6434.085| 6434.085| 6434.085| 6434.085|   NULL|9F2CF0EE-F2B8-44D...|2011-06-07 00:00:00|\n",
            "|       43676|             8|2011-05-31 00:00:00|2011-06-12 00:00:00|2011-06-07 00:00:00|     5|              0|         SO43676|      PO11861165059|10-4020-000017|     29811|          275|          5|           755|           755|           5|       18153|         36168Vi94127|          NULL|15992.744|15992.744|15992.744|15992.744|   NULL|28C73732-D2FD-4F0...|2011-06-07 00:00:00|\n",
            "|       43677|             8|2011-05-31 00:00:00|2011-06-12 00:00:00|2011-06-07 00:00:00|     5|              0|         SO43677|      PO11049174786|10-4020-000679|     29824|          278|          6|           556|           556|           5|       14030|         16302Vi72763|             4| 8773.681| 8773.681| 8773.681| 8773.681|   NULL|95FAAF28-6495-40B...|2011-06-07 00:00:00|\n",
            "|       43678|             8|2011-05-31 00:00:00|2011-06-12 00:00:00|2011-06-07 00:00:00|     5|              0|         SO43678|      PO10817150168|10-4020-000203|     29889|          281|          4|          1021|          1021|           5|        5093|         66363Vi26658|          NULL|11036.396|11036.396|11036.396|11036.396|   NULL|7F4B7542-638E-41C...|2011-06-07 00:00:00|\n",
            "+------------+--------------+-------------------+-------------------+-------------------+------+---------------+----------------+-------------------+--------------+----------+-------------+-----------+--------------+--------------+------------+------------+---------------------+--------------+---------+---------+---------+---------+-------+--------------------+-------------------+\n",
            "only showing top 20 rows\n",
            "\n"
          ]
        }
      ]
    },
    {
      "cell_type": "code",
      "source": [
        "df_order_header.printSchema()"
      ],
      "metadata": {
        "colab": {
          "base_uri": "https://localhost:8080/"
        },
        "id": "zLNq4Nuc6rEX",
        "outputId": "c7ecc2a1-e22d-4be6-dd70-d7f53aa670ac"
      },
      "execution_count": 242,
      "outputs": [
        {
          "output_type": "stream",
          "name": "stdout",
          "text": [
            "root\n",
            " |-- SalesOrderID: string (nullable = true)\n",
            " |-- RevisionNumber: integer (nullable = true)\n",
            " |-- OrderDate: timestamp (nullable = true)\n",
            " |-- DueDate: timestamp (nullable = true)\n",
            " |-- ShipDate: timestamp (nullable = true)\n",
            " |-- Status: integer (nullable = true)\n",
            " |-- OnlineOrderFlag: integer (nullable = true)\n",
            " |-- SalesOrderNumber: string (nullable = true)\n",
            " |-- PurchaseOrderNumber: string (nullable = true)\n",
            " |-- AccountNumber: string (nullable = true)\n",
            " |-- CustomerID: string (nullable = true)\n",
            " |-- SalesPersonID: string (nullable = true)\n",
            " |-- TerritoryID: string (nullable = true)\n",
            " |-- BillToAdressID: string (nullable = true)\n",
            " |-- ShipToAdressId: string (nullable = true)\n",
            " |-- ShipMethodID: string (nullable = true)\n",
            " |-- CreditcardID: string (nullable = true)\n",
            " |-- CredicardApprovalCode: string (nullable = true)\n",
            " |-- CurrencyRateId: string (nullable = true)\n",
            " |-- SubTotal: float (nullable = true)\n",
            " |-- TaxAmt: float (nullable = true)\n",
            " |-- Freight: float (nullable = true)\n",
            " |-- TotalDue: float (nullable = true)\n",
            " |-- Comment: string (nullable = true)\n",
            " |-- rowguid: string (nullable = true)\n",
            " |-- ModifiedDate: timestamp (nullable = true)\n",
            "\n"
          ]
        }
      ]
    },
    {
      "cell_type": "code",
      "source": [
        "#Quantidade de linhas e colunas\n",
        "\n",
        "sparkShape(df_order_header)"
      ],
      "metadata": {
        "colab": {
          "base_uri": "https://localhost:8080/"
        },
        "id": "hvbAt0LM7TE0",
        "outputId": "3384501b-5bc1-4be0-e88a-b04d614756d9"
      },
      "execution_count": 243,
      "outputs": [
        {
          "output_type": "execute_result",
          "data": {
            "text/plain": [
              "(31465, 26)"
            ]
          },
          "metadata": {},
          "execution_count": 243
        }
      ]
    },
    {
      "cell_type": "code",
      "source": [
        "#Detalhes estatisticos gerais\n",
        "df_order_header.describe().show()"
      ],
      "metadata": {
        "colab": {
          "base_uri": "https://localhost:8080/"
        },
        "id": "KKTrMoAn7dIR",
        "outputId": "96b2f55c-5b1f-47f5-ed90-373df1035a91"
      },
      "execution_count": 244,
      "outputs": [
        {
          "output_type": "stream",
          "name": "stdout",
          "text": [
            "+-------+-----------------+-------------------+------+-------------------+----------------+-------------------+--------------+-----------------+-----------------+-----------------+------------------+------------------+------------------+-----------------+---------------------+-----------------+------------------+------------------+------------------+------------------+-------+--------------------+\n",
            "|summary|     SalesOrderID|     RevisionNumber|Status|    OnlineOrderFlag|SalesOrderNumber|PurchaseOrderNumber| AccountNumber|       CustomerID|    SalesPersonID|      TerritoryID|    BillToAdressID|    ShipToAdressId|      ShipMethodID|     CreditcardID|CredicardApprovalCode|   CurrencyRateId|          SubTotal|            TaxAmt|           Freight|          TotalDue|Comment|             rowguid|\n",
            "+-------+-----------------+-------------------+------+-------------------+----------------+-------------------+--------------+-----------------+-----------------+-----------------+------------------+------------------+------------------+-----------------+---------------------+-----------------+------------------+------------------+------------------+------------------+-------+--------------------+\n",
            "|  count|            31465|              31465| 31465|              31465|           31465|              31465|         31465|            31465|            31465|            31465|             31465|             31465|             31465|            31465|                31465|            31465|             31465|             31465|             31465|             31465|  31465|               31465|\n",
            "|   mean|          59391.0|  8.000953440330527|   5.0| 0.8790402034006038|            null|               null|          null|20170.17568727157|280.6079873883342|6.090767519466073|18263.154425552202|18249.192563165423|1.4838391863975846|9684.100448341795|                 null|9191.499570692617| 3915.995107006462| 3915.995107006462| 3915.995107006462| 3915.995107006462|   null|                null|\n",
            "| stddev|9083.307446446295|0.03086359596270263|   0.0|0.32608573040976807|            null|               null|          null|6261.728960399545| 4.84696464571845|2.958119226920885| 8210.069157791939| 8218.429262817577|1.3043429216390754|5566.299591312078|                 null|2945.170095382149|12515.462697332976|12515.462697332976|12515.462697332976|12515.462697332976|   null|                null|\n",
            "|    min|            43659|                  8|     5|                  0|         SO43659|               NULL|10-4020-000001|            11000|              274|                1|              1000|              1000|                 1|                1|       1016006Vi91301|            10000|            1.5183|            1.5183|            1.5183|            1.5183|   NULL|0000DE87-AB3F-492...|\n",
            "|    max|            75123|                  9|     5|                  1|         SO75123|       PO9976195169|10-4030-029483|            30118|             NULL|                9|               999|               999|                 5|             NULL|                 NULL|             NULL|         187487.83|         187487.83|         187487.83|         187487.83|   NULL|FFFE293D-6CC6-445...|\n",
            "+-------+-----------------+-------------------+------+-------------------+----------------+-------------------+--------------+-----------------+-----------------+-----------------+------------------+------------------+------------------+-----------------+---------------------+-----------------+------------------+------------------+------------------+------------------+-------+--------------------+\n",
            "\n"
          ]
        }
      ]
    },
    {
      "cell_type": "code",
      "source": [
        "#CustomerId com maior numero de pedidos.\n",
        "df_order_header.select(\"CustomerId\").groupby(\"customerid\").count().sort('count', ascending=False).show()"
      ],
      "metadata": {
        "colab": {
          "base_uri": "https://localhost:8080/"
        },
        "id": "nV9XTEZ873FT",
        "outputId": "5df2fecf-d56d-434d-fc3b-e91a2384ec3d"
      },
      "execution_count": 245,
      "outputs": [
        {
          "output_type": "stream",
          "name": "stdout",
          "text": [
            "+----------+-----+\n",
            "|customerid|count|\n",
            "+----------+-----+\n",
            "|     11091|   28|\n",
            "|     11176|   28|\n",
            "|     11277|   27|\n",
            "|     11711|   27|\n",
            "|     11331|   27|\n",
            "|     11300|   27|\n",
            "|     11185|   27|\n",
            "|     11287|   27|\n",
            "|     11276|   27|\n",
            "|     11330|   27|\n",
            "|     11223|   27|\n",
            "|     11200|   27|\n",
            "|     11262|   27|\n",
            "|     11566|   25|\n",
            "|     11078|   17|\n",
            "|     11019|   17|\n",
            "|     11203|   17|\n",
            "|     11142|   17|\n",
            "|     11212|   17|\n",
            "|     11215|   17|\n",
            "+----------+-----+\n",
            "only showing top 20 rows\n",
            "\n"
          ]
        }
      ]
    },
    {
      "cell_type": "code",
      "source": [
        "#Maiores valores de pedidos\n",
        "df_order_header.select(\"SalesOrderId\", \"TotalDue\").orderBy(\"TotalDue\", ascending=False).show()\n"
      ],
      "metadata": {
        "colab": {
          "base_uri": "https://localhost:8080/"
        },
        "id": "pqBrxzJC8u44",
        "outputId": "21b9757c-73a0-4e98-def4-c5a6aada90f0"
      },
      "execution_count": 246,
      "outputs": [
        {
          "output_type": "stream",
          "name": "stdout",
          "text": [
            "+------------+----------+\n",
            "|SalesOrderId|  TotalDue|\n",
            "+------------+----------+\n",
            "|       51131| 187487.83|\n",
            "|       55282| 182018.62|\n",
            "|       46616| 170512.67|\n",
            "|       46981| 166537.08|\n",
            "|       47395| 165028.75|\n",
            "|       47369| 158056.55|\n",
            "|       47355| 145741.86|\n",
            "|       51822| 145454.36|\n",
            "|       44518| 142312.22|\n",
            "|       51858| 140042.12|\n",
            "|       57150| 137721.31|\n",
            "|       43875| 137343.28|\n",
            "|       46607| 135606.67|\n",
            "|       46660| 132727.84|\n",
            "|       67305| 130907.05|\n",
            "|       43884|130416.484|\n",
            "|       53573| 130249.26|\n",
            "|       47455| 126992.22|\n",
            "|       51830|126852.164|\n",
            "|       47441| 126830.96|\n",
            "+------------+----------+\n",
            "only showing top 20 rows\n",
            "\n"
          ]
        }
      ]
    },
    {
      "cell_type": "markdown",
      "source": [
        "**Clientes - Sales.Customer**"
      ],
      "metadata": {
        "id": "fDEEz3cAMoDg"
      }
    },
    {
      "cell_type": "code",
      "source": [
        "schema = StructType([\n",
        "                     StructField(\"CustomerID\", StringType(), True),\n",
        "                     StructField(\"PersonID\", StringType(), True),\n",
        "                     StructField(\"StoreID\", StringType(), True),\n",
        "                     StructField(\"TerritoryID\", StringType(), True),\n",
        "                     StructField(\"AccountNumber\", StringType(), True),\n",
        "                     StructField(\"rowguid\", StringType(), True),\n",
        "                     StructField(\"ModifiedDate\", TimestampType(), True),\n",
        "\n",
        "])\n",
        "\n",
        "df_customers = spark.read.csv(f'{pasta_raiz}/Sales_Customer.csv', sep=';', header=True, schema=schema)\n",
        "\n",
        "df_customers.show()"
      ],
      "metadata": {
        "id": "FNTBzKFV9W6Z",
        "colab": {
          "base_uri": "https://localhost:8080/"
        },
        "outputId": "ba08b3d9-e870-4223-d12c-2aefe96d2549"
      },
      "execution_count": 247,
      "outputs": [
        {
          "output_type": "stream",
          "name": "stdout",
          "text": [
            "+----------+--------+-------+-----------+-------------+--------------------+--------------------+\n",
            "|CustomerID|PersonID|StoreID|TerritoryID|AccountNumber|             rowguid|        ModifiedDate|\n",
            "+----------+--------+-------+-----------+-------------+--------------------+--------------------+\n",
            "|         1|    NULL|    934|          1|   AW00000001|3F5AE95E-B87D-4AE...|2014-09-12 11:15:...|\n",
            "|         2|    NULL|   1028|          1|   AW00000002|E552F657-A9AF-4A7...|2014-09-12 11:15:...|\n",
            "|         3|    NULL|    642|          4|   AW00000003|130774B1-DB21-4EF...|2014-09-12 11:15:...|\n",
            "|         4|    NULL|    932|          4|   AW00000004|FF862851-1DAA-404...|2014-09-12 11:15:...|\n",
            "|         5|    NULL|   1026|          4|   AW00000005|83905BDC-6F5E-4F7...|2014-09-12 11:15:...|\n",
            "|         6|    NULL|    644|          4|   AW00000006|1A92DF88-BFA2-467...|2014-09-12 11:15:...|\n",
            "|         7|    NULL|    930|          1|   AW00000007|03E9273E-B193-448...|2014-09-12 11:15:...|\n",
            "|         8|    NULL|   1024|          5|   AW00000008|801368B1-4323-4BF...|2014-09-12 11:15:...|\n",
            "|         9|    NULL|    620|          5|   AW00000009|B900BB7F-23C3-481...|2014-09-12 11:15:...|\n",
            "|        10|    NULL|    928|          6|   AW00000010|CDB6698D-2FF1-4FB...|2014-09-12 11:15:...|\n",
            "|        11|    NULL|   1022|          6|   AW00000011|750F3495-59C4-48A...|2014-09-12 11:15:...|\n",
            "|        12|    NULL|    622|          6|   AW00000012|947BCAF1-1F32-44F...|2014-09-12 11:15:...|\n",
            "|        13|    NULL|    434|          7|   AW00000013|B0FA5854-2511-439...|2014-09-12 11:15:...|\n",
            "|        14|    NULL|   1020|          8|   AW00000014|2F96BEDC-723D-468...|2014-09-12 11:15:...|\n",
            "|        15|    NULL|    624|          9|   AW00000015|0340737B-D4FA-479...|2014-09-12 11:15:...|\n",
            "|        16|    NULL|    432|         10|   AW00000016|C9381589-D31C-4EF...|2014-09-12 11:15:...|\n",
            "|        17|    NULL|   1018|          5|   AW00000017|34DB417F-1E0B-440...|2014-09-12 11:15:...|\n",
            "|        18|    NULL|   1332|          3|   AW00000018|C04D6B4D-94C6-4C5...|2014-09-12 11:15:...|\n",
            "|        19|    NULL|    430|          1|   AW00000019|69AE5D43-31BE-4B7...|2014-09-12 11:15:...|\n",
            "|        20|    NULL|   1016|          1|   AW00000020|E010C10A-F1C3-4BB...|2014-09-12 11:15:...|\n",
            "+----------+--------+-------+-----------+-------------+--------------------+--------------------+\n",
            "only showing top 20 rows\n",
            "\n"
          ]
        }
      ]
    },
    {
      "cell_type": "code",
      "source": [
        "df_customers.printSchema()"
      ],
      "metadata": {
        "colab": {
          "base_uri": "https://localhost:8080/"
        },
        "id": "QGG9MDJYNjUS",
        "outputId": "fb58e1fa-c1a4-46af-9c77-b0cd3901ec46"
      },
      "execution_count": 248,
      "outputs": [
        {
          "output_type": "stream",
          "name": "stdout",
          "text": [
            "root\n",
            " |-- CustomerID: string (nullable = true)\n",
            " |-- PersonID: string (nullable = true)\n",
            " |-- StoreID: string (nullable = true)\n",
            " |-- TerritoryID: string (nullable = true)\n",
            " |-- AccountNumber: string (nullable = true)\n",
            " |-- rowguid: string (nullable = true)\n",
            " |-- ModifiedDate: timestamp (nullable = true)\n",
            "\n"
          ]
        }
      ]
    },
    {
      "cell_type": "code",
      "source": [
        "#Quantidade de linhas e colunas\n",
        "\n",
        "sparkShape(df_customers)"
      ],
      "metadata": {
        "colab": {
          "base_uri": "https://localhost:8080/"
        },
        "id": "PbRuiGsnNmZ3",
        "outputId": "b97a5ae6-f0c7-4366-8f73-20d31da35e96"
      },
      "execution_count": 249,
      "outputs": [
        {
          "output_type": "execute_result",
          "data": {
            "text/plain": [
              "(19820, 7)"
            ]
          },
          "metadata": {},
          "execution_count": 249
        }
      ]
    },
    {
      "cell_type": "code",
      "source": [
        "#Detalhes estatisticos gerais\n",
        "df_customers.describe().show()"
      ],
      "metadata": {
        "colab": {
          "base_uri": "https://localhost:8080/"
        },
        "id": "jFMIF9mTNwON",
        "outputId": "ae95d3c8-688b-4a60-e5ca-0cb8a06380e0"
      },
      "execution_count": 250,
      "outputs": [
        {
          "output_type": "stream",
          "name": "stdout",
          "text": [
            "+-------+------------------+-----------------+------------------+------------------+-------------+--------------------+\n",
            "|summary|        CustomerID|         PersonID|           StoreID|       TerritoryID|AccountNumber|             rowguid|\n",
            "+-------+------------------+-----------------+------------------+------------------+-------------+--------------------+\n",
            "|  count|             19820|            19820|             19820|             19820|        19820|               19820|\n",
            "|   mean|  19844.2770938446|11184.19022961452|1037.6549401197606|  5.82497477295661|         null|                null|\n",
            "| stddev|6581.7859142707575| 5578.70597685964| 475.9147548439723|3.0426757383909195|         null|                null|\n",
            "|    min|                 1|            10000|              1000|                 1|   AW00000001|0006E071-D04E-426...|\n",
            "|    max|                99|             NULL|              NULL|                 9|   AW00030118|FFFFF252-5BFC-482...|\n",
            "+-------+------------------+-----------------+------------------+------------------+-------------+--------------------+\n",
            "\n"
          ]
        }
      ]
    },
    {
      "cell_type": "code",
      "source": [
        "schema = StructType([\n",
        "                     StructField(\"BusinessEntityID\", StringType(), True),\n",
        "                     StructField(\"PersonType\", StringType(), True),\n",
        "                     StructField(\"NameStyle\", StringType(), True),\n",
        "                     StructField(\"Title\", StringType(), True),\n",
        "                     StructField(\"FirstName\", StringType(), True),\n",
        "                     StructField(\"MiddleName\", StringType(), True),\n",
        "                     StructField(\"LastName\", StringType(), True),\n",
        "                     StructField(\"Suffix\", StringType(), True),\n",
        "                     StructField(\"EmailPromotion\", StringType(), True),\n",
        "                     StructField(\"AdditionalContactInfo\", StringType(), True),\n",
        "                     StructField(\"Demographics\", StringType(), True),\n",
        "                     StructField(\"rowguid\", StringType(), True),\n",
        "                     StructField(\"ModifiedDate\", TimestampType(), True),\n",
        "\n",
        "])\n",
        "\n",
        "df_person = spark.read.csv(f'{pasta_raiz}/Person_Person.csv', sep=';', header=True, schema=schema)\n",
        "\n",
        "df_person.show()"
      ],
      "metadata": {
        "colab": {
          "base_uri": "https://localhost:8080/"
        },
        "id": "WjN0etjBOVfH",
        "outputId": "0be1750f-ef41-44b9-977d-19ea166ba8d8"
      },
      "execution_count": 251,
      "outputs": [
        {
          "output_type": "stream",
          "name": "stdout",
          "text": [
            "+----------------+----------+---------+-----+---------+----------+----------+------+--------------+---------------------+--------------------+--------------------+-------------------+\n",
            "|BusinessEntityID|PersonType|NameStyle|Title|FirstName|MiddleName|  LastName|Suffix|EmailPromotion|AdditionalContactInfo|        Demographics|             rowguid|       ModifiedDate|\n",
            "+----------------+----------+---------+-----+---------+----------+----------+------+--------------+---------------------+--------------------+--------------------+-------------------+\n",
            "|               1|        EM|        0| NULL|      Ken|         J|   Sánchez|  NULL|             0|                 NULL|\"<IndividualSurve...|92C4279F-1207-48A...|2009-01-07 00:00:00|\n",
            "|               2|        EM|        0| NULL|    Terri|       Lee|     Duffy|  NULL|             1|                 NULL|\"<IndividualSurve...|D8763459-8AA8-47C...|2008-01-24 00:00:00|\n",
            "|               3|        EM|        0| NULL|  Roberto|      NULL|Tamburello|  NULL|             0|                 NULL|\"<IndividualSurve...|E1A2555E-0828-434...|2007-11-04 00:00:00|\n",
            "|               4|        EM|        0| NULL|      Rob|      NULL|   Walters|  NULL|             0|                 NULL|\"<IndividualSurve...|F2D7CE06-38B3-435...|2007-11-28 00:00:00|\n",
            "|               5|        EM|        0|  Ms.|     Gail|         A|  Erickson|  NULL|             0|                 NULL|\"<IndividualSurve...|F3A3F6B4-AE3B-430...|2007-12-30 00:00:00|\n",
            "|               6|        EM|        0|  Mr.|   Jossef|         H|  Goldberg|  NULL|             0|                 NULL|\"<IndividualSurve...|0DEA28FD-EFFE-482...|2013-12-16 00:00:00|\n",
            "|               7|        EM|        0| NULL|    Dylan|         A|    Miller|  NULL|             2|                 NULL|\"<IndividualSurve...|C45E8AB8-01BE-4B7...|2009-02-01 00:00:00|\n",
            "|               8|        EM|        0| NULL|    Diane|         L|  Margheim|  NULL|             0|                 NULL|\"<IndividualSurve...|A948E590-4A56-45A...|2008-12-22 00:00:00|\n",
            "|               9|        EM|        0| NULL|     Gigi|         N|   Matthew|  NULL|             0|                 NULL|\"<IndividualSurve...|5FC28C0E-6D36-425...|2009-01-09 00:00:00|\n",
            "|              10|        EM|        0| NULL|  Michael|      NULL|    Raheem|  NULL|             2|                 NULL|\"<IndividualSurve...|CA2C740E-75B2-420...|2009-04-26 00:00:00|\n",
            "|              11|        EM|        0| NULL|   Ovidiu|         V|   Cracium|  NULL|             0|                 NULL|\"<IndividualSurve...|D2CC2577-EF6B-440...|2010-11-28 00:00:00|\n",
            "|              12|        EM|        0| NULL|  Thierry|         B|    D'Hers|  NULL|             2|                 NULL|\"<IndividualSurve...|FA263C7F-600D-4E8...|2007-12-04 00:00:00|\n",
            "|              13|        EM|        0|  Ms.|   Janice|         M|    Galvin|  NULL|             2|                 NULL|\"<IndividualSurve...|34EB99E0-7042-4DC...|2010-12-16 00:00:00|\n",
            "|              14|        EM|        0| NULL|  Michael|         I|  Sullivan|  NULL|             2|                 NULL|\"<IndividualSurve...|9A7501DE-5CAF-470...|2010-12-23 00:00:00|\n",
            "|              15|        EM|        0| NULL|   Sharon|         B| Salavaria|  NULL|             2|                 NULL|\"<IndividualSurve...|BEBA63CB-13F1-4B7...|2011-01-11 00:00:00|\n",
            "|              16|        EM|        0| NULL|    David|         M|   Bradley|  NULL|             1|                 NULL|\"<IndividualSurve...|2CC8BA72-5DBB-497...|2007-12-13 00:00:00|\n",
            "|              17|        EM|        0| NULL|    Kevin|         F|     Brown|  NULL|             2|                 NULL|\"<IndividualSurve...|9EE4713E-B3D8-440...|2007-01-19 00:00:00|\n",
            "|              18|        EM|        0| NULL|     John|         L|      Wood|  NULL|             2|                 NULL|\"<IndividualSurve...|FE21BDA7-9327-4D1...|2011-01-31 00:00:00|\n",
            "|              19|        EM|        0| NULL|     Mary|         A|   Dempsey|  NULL|             1|                 NULL|\"<IndividualSurve...|36F04305-6769-4E6...|2011-02-07 00:00:00|\n",
            "|              20|        EM|        0| NULL|   Wanida|         M|  Benshoof|  NULL|             2|                 NULL|\"<IndividualSurve...|1E7E56F4-A583-4E3...|2010-12-31 00:00:00|\n",
            "+----------------+----------+---------+-----+---------+----------+----------+------+--------------+---------------------+--------------------+--------------------+-------------------+\n",
            "only showing top 20 rows\n",
            "\n"
          ]
        }
      ]
    },
    {
      "cell_type": "code",
      "source": [
        "df_person.printSchema()"
      ],
      "metadata": {
        "colab": {
          "base_uri": "https://localhost:8080/"
        },
        "id": "In8d-iPmO5xK",
        "outputId": "7b99dcb7-1eee-4b5b-9354-966c216745db"
      },
      "execution_count": 252,
      "outputs": [
        {
          "output_type": "stream",
          "name": "stdout",
          "text": [
            "root\n",
            " |-- BusinessEntityID: string (nullable = true)\n",
            " |-- PersonType: string (nullable = true)\n",
            " |-- NameStyle: string (nullable = true)\n",
            " |-- Title: string (nullable = true)\n",
            " |-- FirstName: string (nullable = true)\n",
            " |-- MiddleName: string (nullable = true)\n",
            " |-- LastName: string (nullable = true)\n",
            " |-- Suffix: string (nullable = true)\n",
            " |-- EmailPromotion: string (nullable = true)\n",
            " |-- AdditionalContactInfo: string (nullable = true)\n",
            " |-- Demographics: string (nullable = true)\n",
            " |-- rowguid: string (nullable = true)\n",
            " |-- ModifiedDate: timestamp (nullable = true)\n",
            "\n"
          ]
        }
      ]
    },
    {
      "cell_type": "code",
      "source": [
        "#Quantidade de linhas e colunas\n",
        "\n",
        "sparkShape(df_person)"
      ],
      "metadata": {
        "colab": {
          "base_uri": "https://localhost:8080/"
        },
        "id": "IR6VIAHzO8jB",
        "outputId": "628a2165-7dcf-458d-c892-524d84a1476d"
      },
      "execution_count": 253,
      "outputs": [
        {
          "output_type": "execute_result",
          "data": {
            "text/plain": [
              "(19972, 13)"
            ]
          },
          "metadata": {},
          "execution_count": 253
        }
      ]
    },
    {
      "cell_type": "code",
      "source": [
        "#Detalhes estatisticos gerais\n",
        "df_person.describe().show()"
      ],
      "metadata": {
        "colab": {
          "base_uri": "https://localhost:8080/"
        },
        "id": "9K1ddcyaO-b1",
        "outputId": "0713c46f-2aff-4c3f-804d-be4563145f06"
      },
      "execution_count": 254,
      "outputs": [
        {
          "output_type": "stream",
          "name": "stdout",
          "text": [
            "+-------+------------------+----------+---------+-----+---------+----------+--------+------+------------------+---------------------+--------------------+--------------------+\n",
            "|summary|  BusinessEntityID|PersonType|NameStyle|Title|FirstName|MiddleName|LastName|Suffix|    EmailPromotion|AdditionalContactInfo|        Demographics|             rowguid|\n",
            "+-------+------------------+----------+---------+-----+---------+----------+--------+------+------------------+---------------------+--------------------+--------------------+\n",
            "|  count|             19972|     19972|    19972|19972|    19972|     19972|   19972| 19972|             19972|                19972|               19972|               19972|\n",
            "|   mean|10763.079411175646|      null|      0.0| null|     null|      null|    null|  null|0.6300821149609453|                 null|                null|                null|\n",
            "| stddev|5814.1332719480615|      null|      0.0| null|     null|      null|    null|  null|0.7814331436634205|                 null|                null|                null|\n",
            "|    min|                 1|        EM|        0|  Mr.|       A.|         A|   Abbas|    II|                 0| \"<AdditionalConta...|\"<IndividualSurve...|000191EF-7424-4A5...|\n",
            "|    max|              9999|        VC|        0| Sra.|      Zoe|         l|Zwilling|   Sr.|                 2|                 NULL|\"<IndividualSurve...|FFFF4F5E-57D3-472...|\n",
            "+-------+------------------+----------+---------+-----+---------+----------+--------+------+------------------+---------------------+--------------------+--------------------+\n",
            "\n"
          ]
        }
      ]
    },
    {
      "cell_type": "markdown",
      "source": [
        "**Detalhes Pedidos = SalesOrderDetails**"
      ],
      "metadata": {
        "id": "IpCe3x-EPHpR"
      }
    },
    {
      "cell_type": "code",
      "source": [
        "schema = StructType([\n",
        "                     StructField(\"SalesOrderID\", StringType(), True),\n",
        "                     StructField(\"SalesOrderDetailID\", StringType(), True),\n",
        "                     StructField(\"CarrierTrackingNumber\", StringType(), True),\n",
        "                     StructField(\"OrderQty\", StringType(), True),\n",
        "                     StructField(\"ProductID\", StringType(), True),\n",
        "                     StructField(\"SpecialOfferID\", StringType(), True),\n",
        "                     StructField(\"UnitPrice\", StringType(), True),\n",
        "                     StructField(\"UnitPriceDiscount\", StringType(), True),\n",
        "                     StructField(\"LineTotal\", FloatType(), True),\n",
        "                     StructField(\"rowguid\", StringType(), True),\n",
        "                     StructField(\"ModifiedDate\", TimestampType(), True),\n",
        "\n",
        "])\n",
        "\n",
        "df_details = spark.read.csv(f'{pasta_raiz}/Sales_SalesOrderDetail.csv', sep=';', header=True, schema=schema)\n",
        "\n",
        "df_details = df_details.withColumn('UnitPrice', regexp_replace('UnitPrice', ',', '.').cast('float'))\n",
        "df_details = df_details.withColumn('UnitPriceDiscount', regexp_replace('UnitPriceDiscount', ',', '.').cast('float'))\n",
        "\n",
        "df_details.show()"
      ],
      "metadata": {
        "colab": {
          "base_uri": "https://localhost:8080/"
        },
        "id": "ty_rWiXwPNA2",
        "outputId": "144c7a58-4d9a-4926-9ee3-d75c5ea2aa9e"
      },
      "execution_count": 255,
      "outputs": [
        {
          "output_type": "stream",
          "name": "stdout",
          "text": [
            "+------------+------------------+---------------------+--------+---------+--------------+---------+-----------------+---------+--------------------+-------------------+\n",
            "|SalesOrderID|SalesOrderDetailID|CarrierTrackingNumber|OrderQty|ProductID|SpecialOfferID|UnitPrice|UnitPriceDiscount|LineTotal|             rowguid|       ModifiedDate|\n",
            "+------------+------------------+---------------------+--------+---------+--------------+---------+-----------------+---------+--------------------+-------------------+\n",
            "|       43659|                 1|         4911-403C-98|       1|      776|             1| 2024.994|              0.0| 2024.994|B207C96D-D9E6-402...|2011-05-31 00:00:00|\n",
            "|       43659|                 2|         4911-403C-98|       3|      777|             1| 2024.994|              0.0| 6074.982|7ABB600D-1E77-41B...|2011-05-31 00:00:00|\n",
            "|       43659|                 3|         4911-403C-98|       1|      778|             1| 2024.994|              0.0| 2024.994|475CF8C6-49F6-486...|2011-05-31 00:00:00|\n",
            "|       43659|                 4|         4911-403C-98|       1|      771|             1| 2039.994|              0.0| 2039.994|04C4DE91-5815-45D...|2011-05-31 00:00:00|\n",
            "|       43659|                 5|         4911-403C-98|       1|      772|             1| 2039.994|              0.0| 2039.994|5A74C7D2-E641-438...|2011-05-31 00:00:00|\n",
            "|       43659|                 6|         4911-403C-98|       2|      773|             1| 2039.994|              0.0| 4079.988|CE472532-A4C0-45B...|2011-05-31 00:00:00|\n",
            "|       43659|                 7|         4911-403C-98|       1|      774|             1| 2039.994|              0.0| 2039.994|80667840-F962-4EE...|2011-05-31 00:00:00|\n",
            "|       43659|                 8|         4911-403C-98|       3|      714|             1|  28.8404|              0.0|  86.5212|E9D54907-E7B7-496...|2011-05-31 00:00:00|\n",
            "|       43659|                 9|         4911-403C-98|       1|      716|             1|  28.8404|              0.0|  28.8404|AA542630-BDCD-4CE...|2011-05-31 00:00:00|\n",
            "|       43659|                10|         4911-403C-98|       6|      709|             1|      5.7|              0.0|     34.2|AC769034-3C2F-495...|2011-05-31 00:00:00|\n",
            "|       43659|                11|         4911-403C-98|       2|      712|             1|   5.1865|              0.0|   10.373|06A66921-6B9F-419...|2011-05-31 00:00:00|\n",
            "|       43659|                12|         4911-403C-98|       4|      711|             1|  20.1865|              0.0|   80.746|0E371EE3-253E-4BB...|2011-05-31 00:00:00|\n",
            "|       43660|                13|         6431-4D57-83|       1|      762|             1| 419.4589|              0.0| 419.4589|419A1302-AC7A-404...|2011-05-31 00:00:00|\n",
            "|       43660|                14|         6431-4D57-83|       1|      758|             1|  874.794|              0.0|  874.794|5D0B2B03-1D4C-4C3...|2011-05-31 00:00:00|\n",
            "|       43661|                15|         4E0A-4F89-AE|       1|      745|             1|   809.76|              0.0|   809.76|EDE1759E-6733-4C7...|2011-05-31 00:00:00|\n",
            "|       43661|                16|         4E0A-4F89-AE|       1|      743|             1| 714.7043|              0.0| 714.7043|FE10BF09-D477-485...|2011-05-31 00:00:00|\n",
            "|       43661|                17|         4E0A-4F89-AE|       2|      747|             1| 714.7043|              0.0|1429.4086|B136852E-24C9-400...|2011-05-31 00:00:00|\n",
            "|       43661|                18|         4E0A-4F89-AE|       4|      712|             1|   5.1865|              0.0|   20.746|F0F410B6-BC93-4D7...|2011-05-31 00:00:00|\n",
            "|       43661|                19|         4E0A-4F89-AE|       4|      715|             1|  28.8404|              0.0| 115.3616|AE4CDA7D-9B6E-4AB...|2011-05-31 00:00:00|\n",
            "|       43661|                20|         4E0A-4F89-AE|       2|      742|             1| 722.5949|              0.0|1445.1898|054A9D3B-A178-465...|2011-05-31 00:00:00|\n",
            "+------------+------------------+---------------------+--------+---------+--------------+---------+-----------------+---------+--------------------+-------------------+\n",
            "only showing top 20 rows\n",
            "\n"
          ]
        }
      ]
    },
    {
      "cell_type": "code",
      "source": [
        "df_details.printSchema()"
      ],
      "metadata": {
        "colab": {
          "base_uri": "https://localhost:8080/"
        },
        "id": "iOwn3FugQTlL",
        "outputId": "faf646ac-0769-448e-f9ea-870b64c47131"
      },
      "execution_count": 256,
      "outputs": [
        {
          "output_type": "stream",
          "name": "stdout",
          "text": [
            "root\n",
            " |-- SalesOrderID: string (nullable = true)\n",
            " |-- SalesOrderDetailID: string (nullable = true)\n",
            " |-- CarrierTrackingNumber: string (nullable = true)\n",
            " |-- OrderQty: string (nullable = true)\n",
            " |-- ProductID: string (nullable = true)\n",
            " |-- SpecialOfferID: string (nullable = true)\n",
            " |-- UnitPrice: float (nullable = true)\n",
            " |-- UnitPriceDiscount: float (nullable = true)\n",
            " |-- LineTotal: float (nullable = true)\n",
            " |-- rowguid: string (nullable = true)\n",
            " |-- ModifiedDate: timestamp (nullable = true)\n",
            "\n"
          ]
        }
      ]
    },
    {
      "cell_type": "code",
      "source": [
        "#Quantidade de linhas e colunas\n",
        "\n",
        "sparkShape(df_details)"
      ],
      "metadata": {
        "colab": {
          "base_uri": "https://localhost:8080/"
        },
        "id": "FhtXzk5WQVG1",
        "outputId": "4af77a17-9ec1-4ab4-e8e9-9dbe63786e85"
      },
      "execution_count": 257,
      "outputs": [
        {
          "output_type": "execute_result",
          "data": {
            "text/plain": [
              "(121317, 11)"
            ]
          },
          "metadata": {},
          "execution_count": 257
        }
      ]
    },
    {
      "cell_type": "code",
      "source": [
        "#Detalhes estatisticos gerais\n",
        "df_details.describe().show()"
      ],
      "metadata": {
        "colab": {
          "base_uri": "https://localhost:8080/"
        },
        "id": "AE1Se9R9QWRJ",
        "outputId": "574907f9-baa8-4d17-8196-fdc6ef3868a6"
      },
      "execution_count": 258,
      "outputs": [
        {
          "output_type": "stream",
          "name": "stdout",
          "text": [
            "+-------+------------------+------------------+---------------------+------------------+-----------------+------------------+------------------+-------------------+------------------+--------------------+\n",
            "|summary|      SalesOrderID|SalesOrderDetailID|CarrierTrackingNumber|          OrderQty|        ProductID|    SpecialOfferID|         UnitPrice|  UnitPriceDiscount|         LineTotal|             rowguid|\n",
            "+-------+------------------+------------------+---------------------+------------------+-----------------+------------------+------------------+-------------------+------------------+--------------------+\n",
            "|  count|            121317|            121317|               121317|            121317|           121317|            121317|            121317|             121317|            121317|              121317|\n",
            "|   mean|57827.363782487206|           60659.0|                 null|2.2660797744751355|841.6808361565156|1.1625411113034447|465.09349706117285|0.00282606728862525| 905.4492069399555|                null|\n",
            "| stddev| 9009.147901593558|35021.345640908774|                 null|  2.49132317472756|86.45212373776558|1.2186043802028799| 751.8850853222633|0.02481053280876975|1693.4173866249741|                null|\n",
            "|    min|             43659|                 1|         000A-434D-BC|                 1|              707|                 1|            1.3282|                0.0|             1.374|0000C99C-2B71-488...|\n",
            "|    max|             75123|             99999|                 NULL|                 9|              999|                 9|           3578.27|                0.4|          27893.62|FFFF365B-8BAC-4A2...|\n",
            "+-------+------------------+------------------+---------------------+------------------+-----------------+------------------+------------------+-------------------+------------------+--------------------+\n",
            "\n"
          ]
        }
      ]
    },
    {
      "cell_type": "markdown",
      "source": [
        "## **Análise de dados**"
      ],
      "metadata": {
        "id": "r716G6c3Qy5X"
      }
    },
    {
      "cell_type": "code",
      "source": [
        "# DataFrames\n",
        "\n",
        "df_special_offer\n",
        "df_product\n",
        "df_order_header\n",
        "df_customers\n",
        "df_person\n",
        "df_details\n",
        "\n",
        "# SQL\n",
        "\n",
        "df_special_offer.createOrReplaceTempView('SPECIAL')\n",
        "df_product.createOrReplaceTempView('PRODUCT')\n",
        "df_order_header.createOrReplaceTempView('ORDER')\n",
        "df_customers.createOrReplaceTempView('CUSTOMERS')\n",
        "df_person.createOrReplaceTempView('PERSON')\n",
        "df_details.createOrReplaceTempView('DETAILS')\n"
      ],
      "metadata": {
        "id": "tpnnxEGpQbRk"
      },
      "execution_count": 259,
      "outputs": []
    },
    {
      "cell_type": "markdown",
      "source": [
        "Escreva uma query que retorna a quantidade de linhas na tabela Sales.SalesOrderDetail pelo campo SalesOrderID, desde que tenham pelo menos três linhas de detalhes."
      ],
      "metadata": {
        "id": "fgl6foeuRthj"
      }
    },
    {
      "cell_type": "code",
      "source": [
        "df_details.show()"
      ],
      "metadata": {
        "colab": {
          "base_uri": "https://localhost:8080/"
        },
        "id": "WVECY3uvR-HL",
        "outputId": "b1ea8ae2-cc50-4cec-dd0d-975735b7b28e"
      },
      "execution_count": 260,
      "outputs": [
        {
          "output_type": "stream",
          "name": "stdout",
          "text": [
            "+------------+------------------+---------------------+--------+---------+--------------+---------+-----------------+---------+--------------------+-------------------+\n",
            "|SalesOrderID|SalesOrderDetailID|CarrierTrackingNumber|OrderQty|ProductID|SpecialOfferID|UnitPrice|UnitPriceDiscount|LineTotal|             rowguid|       ModifiedDate|\n",
            "+------------+------------------+---------------------+--------+---------+--------------+---------+-----------------+---------+--------------------+-------------------+\n",
            "|       43659|                 1|         4911-403C-98|       1|      776|             1| 2024.994|              0.0| 2024.994|B207C96D-D9E6-402...|2011-05-31 00:00:00|\n",
            "|       43659|                 2|         4911-403C-98|       3|      777|             1| 2024.994|              0.0| 6074.982|7ABB600D-1E77-41B...|2011-05-31 00:00:00|\n",
            "|       43659|                 3|         4911-403C-98|       1|      778|             1| 2024.994|              0.0| 2024.994|475CF8C6-49F6-486...|2011-05-31 00:00:00|\n",
            "|       43659|                 4|         4911-403C-98|       1|      771|             1| 2039.994|              0.0| 2039.994|04C4DE91-5815-45D...|2011-05-31 00:00:00|\n",
            "|       43659|                 5|         4911-403C-98|       1|      772|             1| 2039.994|              0.0| 2039.994|5A74C7D2-E641-438...|2011-05-31 00:00:00|\n",
            "|       43659|                 6|         4911-403C-98|       2|      773|             1| 2039.994|              0.0| 4079.988|CE472532-A4C0-45B...|2011-05-31 00:00:00|\n",
            "|       43659|                 7|         4911-403C-98|       1|      774|             1| 2039.994|              0.0| 2039.994|80667840-F962-4EE...|2011-05-31 00:00:00|\n",
            "|       43659|                 8|         4911-403C-98|       3|      714|             1|  28.8404|              0.0|  86.5212|E9D54907-E7B7-496...|2011-05-31 00:00:00|\n",
            "|       43659|                 9|         4911-403C-98|       1|      716|             1|  28.8404|              0.0|  28.8404|AA542630-BDCD-4CE...|2011-05-31 00:00:00|\n",
            "|       43659|                10|         4911-403C-98|       6|      709|             1|      5.7|              0.0|     34.2|AC769034-3C2F-495...|2011-05-31 00:00:00|\n",
            "|       43659|                11|         4911-403C-98|       2|      712|             1|   5.1865|              0.0|   10.373|06A66921-6B9F-419...|2011-05-31 00:00:00|\n",
            "|       43659|                12|         4911-403C-98|       4|      711|             1|  20.1865|              0.0|   80.746|0E371EE3-253E-4BB...|2011-05-31 00:00:00|\n",
            "|       43660|                13|         6431-4D57-83|       1|      762|             1| 419.4589|              0.0| 419.4589|419A1302-AC7A-404...|2011-05-31 00:00:00|\n",
            "|       43660|                14|         6431-4D57-83|       1|      758|             1|  874.794|              0.0|  874.794|5D0B2B03-1D4C-4C3...|2011-05-31 00:00:00|\n",
            "|       43661|                15|         4E0A-4F89-AE|       1|      745|             1|   809.76|              0.0|   809.76|EDE1759E-6733-4C7...|2011-05-31 00:00:00|\n",
            "|       43661|                16|         4E0A-4F89-AE|       1|      743|             1| 714.7043|              0.0| 714.7043|FE10BF09-D477-485...|2011-05-31 00:00:00|\n",
            "|       43661|                17|         4E0A-4F89-AE|       2|      747|             1| 714.7043|              0.0|1429.4086|B136852E-24C9-400...|2011-05-31 00:00:00|\n",
            "|       43661|                18|         4E0A-4F89-AE|       4|      712|             1|   5.1865|              0.0|   20.746|F0F410B6-BC93-4D7...|2011-05-31 00:00:00|\n",
            "|       43661|                19|         4E0A-4F89-AE|       4|      715|             1|  28.8404|              0.0| 115.3616|AE4CDA7D-9B6E-4AB...|2011-05-31 00:00:00|\n",
            "|       43661|                20|         4E0A-4F89-AE|       2|      742|             1| 722.5949|              0.0|1445.1898|054A9D3B-A178-465...|2011-05-31 00:00:00|\n",
            "+------------+------------------+---------------------+--------+---------+--------------+---------+-----------------+---------+--------------------+-------------------+\n",
            "only showing top 20 rows\n",
            "\n"
          ]
        }
      ]
    },
    {
      "cell_type": "code",
      "source": [
        "spark.sql('''SELECT COUNT(*) AS TOTAL \n",
        "FROM (SELECT SalesOrderID, count(*) AS D1 \n",
        "        FROM DETAILS \n",
        "        GROUP BY SalesOrderID) \n",
        "WHERE D1 >= 3''').show()"
      ],
      "metadata": {
        "colab": {
          "base_uri": "https://localhost:8080/"
        },
        "id": "wmCkjYb2RkTQ",
        "outputId": "c699efbf-3e29-4a96-e9e7-f18d14af4455"
      },
      "execution_count": 261,
      "outputs": [
        {
          "output_type": "stream",
          "name": "stdout",
          "text": [
            "+-----+\n",
            "|TOTAL|\n",
            "+-----+\n",
            "|12757|\n",
            "+-----+\n",
            "\n"
          ]
        }
      ]
    },
    {
      "cell_type": "markdown",
      "source": [
        " Escreva uma query que ligue as tabelas Sales.SalesOrderDetail, Sales.SpecialOfferProduct\n",
        "e Production.Product e retorne os 3 produtos (Name) mais vendidos (pela soma de\n",
        "OrderQty), agrupados pelo número de dias para manufatura (DaysToManufacture)."
      ],
      "metadata": {
        "id": "idKbdWATXReC"
      }
    },
    {
      "cell_type": "code",
      "source": [
        "spark.sql('''SELECT PRODUCT.NAME, SUM(DETAILS.ORDERQTY) AS SOMA, PRODUCT.DAYSTOMANUFACTURE \n",
        "FROM PRODUCT \n",
        "LEFT JOIN SPECIAL ON PRODUCT.PRODUCTID = SPECIAL.PRODUCTID \n",
        "LEFT JOIN DETAILS ON SPECIAL.SPECIALOFFERID = DETAILS.SPECIALOFFERID\n",
        "GROUP BY PRODUCT.NAME, PRODUCT.DAYSTOMANUFACTURE \n",
        "ORDER BY SOMA DESC\n",
        "LIMIT 3''').show()"
      ],
      "metadata": {
        "colab": {
          "base_uri": "https://localhost:8080/"
        },
        "id": "tQoDRp5RXTtJ",
        "outputId": "8574b74e-e2b8-40d8-e6c8-def919a791ed"
      },
      "execution_count": 262,
      "outputs": [
        {
          "output_type": "stream",
          "name": "stdout",
          "text": [
            "+--------------------+--------+-----------------+\n",
            "|                NAME|    SOMA|DAYSTOMANUFACTURE|\n",
            "+--------------------+--------+-----------------+\n",
            "|Full-Finger Glove...|270244.0|                0|\n",
            "|Women's Mountain ...|270244.0|                0|\n",
            "|     Classic Vest, S|270159.0|                0|\n",
            "+--------------------+--------+-----------------+\n",
            "\n"
          ]
        }
      ]
    },
    {
      "cell_type": "markdown",
      "source": [
        "Escreva uma query ligando as tabelas Person.Person, Sales.Customer e\n",
        "Sales.SalesOrderHeader de forma a obter uma lista de nomes de clientes e uma contagem\n",
        "de pedidos efetuados."
      ],
      "metadata": {
        "id": "M7mKYRtFdT0i"
      }
    },
    {
      "cell_type": "code",
      "source": [
        "spark.sql('''SELECT PERSON.FIRSTNAME, COUNT(*) AS PEDIDOS\n",
        "FROM PERSON \n",
        "INNER JOIN ORDER ON PERSON.BUSINESSENTITYID = ORDER.CUSTOMERID \n",
        "GROUP BY PERSON.FIRSTNAME\n",
        "''').show()"
      ],
      "metadata": {
        "colab": {
          "base_uri": "https://localhost:8080/"
        },
        "id": "niHPxepNdWDw",
        "outputId": "0fe190eb-40db-486b-fbe6-4ed64e3ba148"
      },
      "execution_count": 263,
      "outputs": [
        {
          "output_type": "stream",
          "name": "stdout",
          "text": [
            "+---------+-------+\n",
            "|FIRSTNAME|PEDIDOS|\n",
            "+---------+-------+\n",
            "| Samantha|     77|\n",
            "|   Damien|     34|\n",
            "|    Ruben|    163|\n",
            "|   Wilson|      2|\n",
            "|    Grace|    177|\n",
            "|    Lucas|     75|\n",
            "|   Gerald|     33|\n",
            "|    Edwin|     92|\n",
            "|    Robyn|     39|\n",
            "|   Willie|     63|\n",
            "|     Mary|      9|\n",
            "| Isabella|    118|\n",
            "|    James|     71|\n",
            "|    Jaime|      6|\n",
            "|   Rakesh|      2|\n",
            "|    Wyatt|     42|\n",
            "|   Trevor|     35|\n",
            "|  Antonio|     43|\n",
            "|  Natalie|    114|\n",
            "|      Roy|     91|\n",
            "+---------+-------+\n",
            "only showing top 20 rows\n",
            "\n"
          ]
        }
      ]
    },
    {
      "cell_type": "markdown",
      "source": [
        "Escreva uma query usando as tabelas Sales.SalesOrderHeader, Sales.SalesOrderDetail e\n",
        "Production.Product, de forma a obter a soma total de produtos (OrderQty) por ProductID e\n",
        "OrderDate."
      ],
      "metadata": {
        "id": "BHrlvOQNf5Q9"
      }
    },
    {
      "cell_type": "code",
      "source": [
        "spark.sql('''\n",
        "SELECT PRODUCT.PRODUCTID, ORDER.ORDERDATE, SUM(DETAILS.ORDERQTY) AS SOMA\n",
        "FROM PRODUCT\n",
        "JOIN SPECIAL\n",
        "ON PRODUCT.PRODUCTID = SPECIAL.PRODUCTID\n",
        "JOIN DETAILS\n",
        "ON SPECIAL.SPECIALOFFERID = DETAILS.SPECIALOFFERID\n",
        "JOIN ORDER\n",
        "ON DETAILS.SALESORDERID = ORDER.SALESORDERID\n",
        "GROUP BY PRODUCT.PRODUCTID, ORDER.ORDERDATE\n",
        "''').show()"
      ],
      "metadata": {
        "colab": {
          "base_uri": "https://localhost:8080/"
        },
        "id": "jBDvQVjgf7tY",
        "outputId": "1730325f-a4d3-45ed-9877-9ecde26413c3"
      },
      "execution_count": 264,
      "outputs": [
        {
          "output_type": "stream",
          "name": "stdout",
          "text": [
            "+---------+-------------------+----+\n",
            "|PRODUCTID|          ORDERDATE|SOMA|\n",
            "+---------+-------------------+----+\n",
            "|      715|2014-06-09 00:00:00|69.0|\n",
            "|      717|2014-06-11 00:00:00|61.0|\n",
            "|      730|2014-06-28 00:00:00|68.0|\n",
            "|      736|2014-06-23 00:00:00|82.0|\n",
            "|      739|2014-06-14 00:00:00|78.0|\n",
            "|      741|2014-06-04 00:00:00|62.0|\n",
            "|      744|2014-06-19 00:00:00|79.0|\n",
            "|      749|2014-06-10 00:00:00|63.0|\n",
            "|      754|2014-06-25 00:00:00|75.0|\n",
            "|      760|2014-06-27 00:00:00|82.0|\n",
            "|      761|2014-06-03 00:00:00|53.0|\n",
            "|      764|2014-06-25 00:00:00|75.0|\n",
            "|      774|2014-06-29 00:00:00|61.0|\n",
            "|      786|2014-06-14 00:00:00|78.0|\n",
            "|      789|2014-06-22 00:00:00|69.0|\n",
            "|      789|2014-06-09 00:00:00|69.0|\n",
            "|      789|2014-05-31 00:00:00|79.0|\n",
            "|      792|2014-06-23 00:00:00|82.0|\n",
            "|      793|2014-06-11 00:00:00|61.0|\n",
            "|      794|2014-06-27 00:00:00|82.0|\n",
            "+---------+-------------------+----+\n",
            "only showing top 20 rows\n",
            "\n"
          ]
        }
      ]
    },
    {
      "cell_type": "markdown",
      "source": [
        "Escreva uma query mostrando os campos SalesOrderID, OrderDate e TotalDue da tabela\n",
        "Sales.SalesOrderHeader. Obtenha apenas as linhas onde a ordem tenha sido feita durante\n",
        "o mês de setembro/2011 e o total devido esteja acima de 1.000. Ordene pelo total devido\n",
        "decrescente."
      ],
      "metadata": {
        "id": "E8r2ZU9SiDEy"
      }
    },
    {
      "cell_type": "code",
      "source": [
        "spark.sql('''\n",
        "SELECT SALESORDERID, ORDERDATE, TOTALDUE \n",
        "FROM ORDER\n",
        "WHERE ORDERDATE >='2011-09-01' AND ORDERDATE <'2011-10-01'  AND TOTALDUE > 1000\n",
        "ORDER BY TOTALDUE DESC\n",
        "''').show()"
      ],
      "metadata": {
        "colab": {
          "base_uri": "https://localhost:8080/"
        },
        "id": "Gr8PhfotiB1X",
        "outputId": "c389cc45-dc93-4bad-f83e-1c931bb7863e"
      },
      "execution_count": 265,
      "outputs": [
        {
          "output_type": "stream",
          "name": "stdout",
          "text": [
            "+------------+-------------------+---------+\n",
            "|SALESORDERID|          ORDERDATE| TOTALDUE|\n",
            "+------------+-------------------+---------+\n",
            "|       44348|2011-09-07 00:00:00|3953.9883|\n",
            "|       44372|2011-09-09 00:00:00|3953.9883|\n",
            "|       44349|2011-09-07 00:00:00|3953.9883|\n",
            "|       44350|2011-09-07 00:00:00|3953.9883|\n",
            "|       44371|2011-09-09 00:00:00|3953.9883|\n",
            "|       44351|2011-09-07 00:00:00|3953.9883|\n",
            "|       44328|2011-09-02 00:00:00|3953.9883|\n",
            "|       44352|2011-09-07 00:00:00|3953.9883|\n",
            "|       44330|2011-09-02 00:00:00|3953.9883|\n",
            "|       44332|2011-09-03 00:00:00|3953.9883|\n",
            "|       44370|2011-09-09 00:00:00|3953.9883|\n",
            "|       44357|2011-09-07 00:00:00|3953.9883|\n",
            "|       44338|2011-09-04 00:00:00|3953.9883|\n",
            "|       44358|2011-09-07 00:00:00|3953.9883|\n",
            "|       44340|2011-09-04 00:00:00|3953.9883|\n",
            "|       44359|2011-09-08 00:00:00|3953.9883|\n",
            "|       44344|2011-09-06 00:00:00|3953.9883|\n",
            "|       44360|2011-09-08 00:00:00|3953.9883|\n",
            "|       44347|2011-09-06 00:00:00|3953.9883|\n",
            "|       44361|2011-09-08 00:00:00|3953.9883|\n",
            "+------------+-------------------+---------+\n",
            "only showing top 20 rows\n",
            "\n"
          ]
        }
      ]
    }
  ]
}